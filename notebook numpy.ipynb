{
 "cells": [
  {
   "cell_type": "markdown",
   "metadata": {},
   "source": [
    "### NumPy básico\n",
    "\n",
    "A estrutura de dados mais popular em NumPy são os **arrays.** Os dados em um numpy array são alocados [contiguamente](https://stackoverflow.com/questions/26998223/what-is-the-difference-between-contiguous-and-non-contiguous-arrays) em memória (seja em formato C - linhas ou Fortran - colunas)."
   ]
  },
  {
   "cell_type": "code",
   "execution_count": 1,
   "metadata": {
    "collapsed": true
   },
   "outputs": [],
   "source": [
    "import numpy as np"
   ]
  },
  {
   "cell_type": "markdown",
   "metadata": {},
   "source": [
    "### Instanciando arrays"
   ]
  },
  {
   "cell_type": "code",
   "execution_count": 4,
   "metadata": {},
   "outputs": [
    {
     "name": "stdout",
     "output_type": "stream",
     "text": [
      "[0 1 2 3 4 5 6]\n",
      "[0 1 2 3 4 5 6]\n"
     ]
    }
   ],
   "source": [
    "a = np.array([0, 1, 2, 3, 4, 5, 6])  # cria um numpy.ndarray a partir de uma lista encadeada\n",
    "print a\n",
    "b = np.arange(7)  # cria um numpy.array de com números de 0 até 6\n",
    "print b"
   ]
  },
  {
   "cell_type": "markdown",
   "metadata": {},
   "source": [
    "### Instanciando matrizes\n",
    "\n",
    "Existe um objeto numpy.matrix dentro da biblioteca Python. Porém é mais comum utilizar arrays para representação matricial:"
   ]
  },
  {
   "cell_type": "code",
   "execution_count": 7,
   "metadata": {},
   "outputs": [
    {
     "name": "stdout",
     "output_type": "stream",
     "text": [
      "[[1 2 3]\n",
      " [4 5 6]\n",
      " [7 8 9]] \n",
      "\n",
      "[[0 1 2]\n",
      " [3 4 5]\n",
      " [6 7 8]] \n",
      "\n",
      "(3, 3) (3, 3)\n"
     ]
    }
   ],
   "source": [
    "a = np.array([[1, 2, 3], [4, 5, 6], [7, 8, 9]])  # a partir de uma lista de listas\n",
    "b = np.arange(9).reshape(3, 3)  # de 0 até 8, depois reordena os itens 3 a 3\n",
    "\n",
    "print a, '\\n'\n",
    "print b, '\\n'\n",
    "\n",
    "print a.shape, b.shape  # imprime tamanho das matrizes"
   ]
  },
  {
   "cell_type": "markdown",
   "metadata": {},
   "source": [
    "### Operações sobre matrizes"
   ]
  },
  {
   "cell_type": "code",
   "execution_count": 17,
   "metadata": {},
   "outputs": [
    {
     "name": "stdout",
     "output_type": "stream",
     "text": [
      "matriz a:\n",
      "[[1 2 3]\n",
      " [4 5 6]\n",
      " [7 8 9]]\n",
      "matriz b:\n",
      "[[0 1 2]\n",
      " [3 4 5]\n",
      " [6 7 8]]\n",
      "a multiplica b:\n",
      "[[ 24  30  36]\n",
      " [ 51  66  81]\n",
      " [ 78 102 126]]\n",
      "a * b (element-wise):\n",
      "[[ 0  2  6]\n",
      " [12 20 30]\n",
      " [42 56 72]]\n",
      "a - b (element-wise):\n",
      "[[1 1 1]\n",
      " [1 1 1]\n",
      " [1 1 1]]\n",
      "diagonal principal:\n",
      "[1 5 9]\n",
      "achatando uma matriz:\n",
      "[1 2 3 4 5 6 7 8 9]\n"
     ]
    }
   ],
   "source": [
    "print 'matriz a:\\n', a\n",
    "print 'matriz b:\\n', b\n",
    "\n",
    "print 'a multiplica b:\\n', np.dot(a, b)\n",
    "\n",
    "print 'a * b (element-wise):\\n', np.multiply(a, b)  # a * b também retornará este resultado\n",
    "\n",
    "print 'a - b (element-wise):\\n', a - b\n",
    "\n",
    "print 'diagonal principal:\\n', np.diagonal(a)\n",
    "\n",
    "print 'achatando uma matriz:\\n', a.flatten()  # a.ravel() também funciona, mas não retorna uma cópia como flatten faz"
   ]
  },
  {
   "cell_type": "markdown",
   "metadata": {},
   "source": [
    "### Amostragem"
   ]
  },
  {
   "cell_type": "code",
   "execution_count": 19,
   "metadata": {},
   "outputs": [
    {
     "data": {
      "text/plain": [
       "array([0, 0, 1, 4, 0, 1, 2, 2, 0, 2])"
      ]
     },
     "execution_count": 19,
     "metadata": {},
     "output_type": "execute_result"
    }
   ],
   "source": [
    "np.random.randint(0, 5, size=10)  # amostra um array de tamanho 10 com elementos que variam de 0 até 5"
   ]
  },
  {
   "cell_type": "code",
   "execution_count": 21,
   "metadata": {},
   "outputs": [
    {
     "data": {
      "text/plain": [
       "array(['a', 'd', 'c', 'b', 'e'], \n",
       "      dtype='|S1')"
      ]
     },
     "execution_count": 21,
     "metadata": {},
     "output_type": "execute_result"
    }
   ],
   "source": [
    "# dado um conjunto de valores de entrada, amostra 5 valores, SEM reposição de valores já amostrados\n",
    "np.random.choice(['a', 'b', 'c', 'd', 'e'], size=5, replace=False)"
   ]
  },
  {
   "cell_type": "code",
   "execution_count": 23,
   "metadata": {},
   "outputs": [
    {
     "data": {
      "text/plain": [
       "array(['c', 'd', 'e', 'a', 'e'], \n",
       "      dtype='|S1')"
      ]
     },
     "execution_count": 23,
     "metadata": {},
     "output_type": "execute_result"
    }
   ],
   "source": [
    "# dado um conjunto de valores de entrada, amostra 5 valores, COM reposição de valores já amostrados\n",
    "np.random.choice(['a', 'b', 'c', 'd', 'e'], size=5, replace=True)"
   ]
  },
  {
   "cell_type": "code",
   "execution_count": 25,
   "metadata": {},
   "outputs": [
    {
     "data": {
      "text/plain": [
       "array(['c', 'd', 'a', 'a', 'a'], \n",
       "      dtype='|S1')"
      ]
     },
     "execution_count": 25,
     "metadata": {},
     "output_type": "execute_result"
    }
   ],
   "source": [
    "# dado um conjunto de valores de entrada, amostra 5 valores, \n",
    "# COM reposição de valores já amostrados, e com uma probabilidade associada a cada valor\n",
    "np.random.choice(['a', 'b', 'c', 'd', 'e'], size=5, replace=True, p=[0.4, 0.15, 0.15, 0.15, 0.15])"
   ]
  },
  {
   "cell_type": "code",
   "execution_count": 29,
   "metadata": {},
   "outputs": [
    {
     "data": {
      "image/png": "[encoded data removed]",
      "text/plain": [
       "<matplotlib.figure.Figure at 0x7fa20ece9d90>"
      ]
     },
     "metadata": {},
     "output_type": "display_data"
    }
   ],
   "source": [
    "from matplotlib import pyplot as plt  # biblioteca para projeções\n",
    "\n",
    "# amostra 500 valores de uma distribuição normal com média = 0. e desvio padrão = 1.0\n",
    "sample = np.random.normal(loc=0.0, scale=1.0, size=500)\n",
    "\n",
    "# mostra os valores em um histograma\n",
    "plt.hist(sample)\n",
    "\n",
    "plt.show()"
   ]
  }
 ],
 "metadata": {
  "anaconda-cloud": {},
  "kernelspec": {
   "display_name": "Python [conda env:eda]",
   "language": "python",
   "name": "conda-env-eda-py"
  },
  "language_info": {
   "codemirror_mode": {
    "name": "ipython",
    "version": 2
   },
   "file_extension": ".py",
   "mimetype": "text/x-python",
   "name": "python",
   "nbconvert_exporter": "python",
   "pygments_lexer": "ipython2",
   "version": "2.7.13"
  }
 },
 "nbformat": 4,
 "nbformat_minor": 2
}
