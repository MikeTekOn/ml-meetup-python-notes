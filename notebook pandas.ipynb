{
 "cells": [
  {
   "cell_type": "markdown",
   "metadata": {},
   "source": [
    "## Pandas básico"
   ]
  },
  {
   "cell_type": "code",
   "execution_count": 1,
   "metadata": {
    "collapsed": true
   },
   "outputs": [],
   "source": [
    "import pandas as pd"
   ]
  },
  {
   "cell_type": "markdown",
   "metadata": {},
   "source": [
    "### Iniciando um dataframe (a partir de um arquivo csv)"
   ]
  },
  {
   "cell_type": "code",
   "execution_count": 2,
   "metadata": {},
   "outputs": [
    {
     "name": "stdout",
     "output_type": "stream",
     "text": [
      "     sepallength   sepalwidth   petallength   petalwidth           class\n",
      "0            5.1          3.5           1.4          0.2     Iris-setosa\n",
      "1            4.9          3.0           1.4          0.2     Iris-setosa\n",
      "2            4.7          3.2           1.3          0.2     Iris-setosa\n",
      "3            4.6          3.1           1.5          0.2     Iris-setosa\n",
      "4            5.0          3.6           1.4          0.2     Iris-setosa\n",
      "5            5.4          3.9           1.7          0.4     Iris-setosa\n",
      "6            4.6          3.4           1.4          0.3     Iris-setosa\n",
      "7            5.0          3.4           1.5          0.2     Iris-setosa\n",
      "8            4.4          2.9           1.4          0.2     Iris-setosa\n",
      "9            4.9          3.1           1.5          0.1     Iris-setosa\n",
      "10           5.4          3.7           1.5          0.2     Iris-setosa\n",
      "11           4.8          3.4           1.6          0.2     Iris-setosa\n",
      "12           4.8          3.0           1.4          0.1     Iris-setosa\n",
      "13           4.3          3.0           1.1          0.1     Iris-setosa\n",
      "14           5.8          4.0           1.2          0.2     Iris-setosa\n",
      "15           5.7          4.4           1.5          0.4     Iris-setosa\n",
      "16           5.4          3.9           1.3          0.4     Iris-setosa\n",
      "17           5.1          3.5           1.4          0.3     Iris-setosa\n",
      "18           5.7          3.8           1.7          0.3     Iris-setosa\n",
      "19           5.1          3.8           1.5          0.3     Iris-setosa\n",
      "20           5.4          3.4           1.7          0.2     Iris-setosa\n",
      "21           5.1          3.7           1.5          0.4     Iris-setosa\n",
      "22           4.6          3.6           1.0          0.2     Iris-setosa\n",
      "23           5.1          3.3           1.7          0.5     Iris-setosa\n",
      "24           4.8          3.4           1.9          0.2     Iris-setosa\n",
      "25           5.0          3.0           1.6          0.2     Iris-setosa\n",
      "26           5.0          3.4           1.6          0.4     Iris-setosa\n",
      "27           5.2          3.5           1.5          0.2     Iris-setosa\n",
      "28           5.2          3.4           1.4          0.2     Iris-setosa\n",
      "29           4.7          3.2           1.6          0.2     Iris-setosa\n",
      "..           ...          ...           ...          ...             ...\n",
      "120          6.9          3.2           5.7          2.3  Iris-virginica\n",
      "121          5.6          2.8           4.9          2.0  Iris-virginica\n",
      "122          7.7          2.8           6.7          2.0  Iris-virginica\n",
      "123          6.3          2.7           4.9          1.8  Iris-virginica\n",
      "124          6.7          3.3           5.7          2.1  Iris-virginica\n",
      "125          7.2          3.2           6.0          1.8  Iris-virginica\n",
      "126          6.2          2.8           4.8          1.8  Iris-virginica\n",
      "127          6.1          3.0           4.9          1.8  Iris-virginica\n",
      "128          6.4          2.8           5.6          2.1  Iris-virginica\n",
      "129          7.2          3.0           5.8          1.6  Iris-virginica\n",
      "130          7.4          2.8           6.1          1.9  Iris-virginica\n",
      "131          7.9          3.8           6.4          2.0  Iris-virginica\n",
      "132          6.4          2.8           5.6          2.2  Iris-virginica\n",
      "133          6.3          2.8           5.1          1.5  Iris-virginica\n",
      "134          6.1          2.6           5.6          1.4  Iris-virginica\n",
      "135          7.7          3.0           6.1          2.3  Iris-virginica\n",
      "136          6.3          3.4           5.6          2.4  Iris-virginica\n",
      "137          6.4          3.1           5.5          1.8  Iris-virginica\n",
      "138          6.0          3.0           4.8          1.8  Iris-virginica\n",
      "139          6.9          3.1           5.4          2.1  Iris-virginica\n",
      "140          6.7          3.1           5.6          2.4  Iris-virginica\n",
      "141          6.9          3.1           5.1          2.3  Iris-virginica\n",
      "142          5.8          2.7           5.1          1.9  Iris-virginica\n",
      "143          6.8          3.2           5.9          2.3  Iris-virginica\n",
      "144          6.7          3.3           5.7          2.5  Iris-virginica\n",
      "145          6.7          3.0           5.2          2.3  Iris-virginica\n",
      "146          6.3          2.5           5.0          1.9  Iris-virginica\n",
      "147          6.5          3.0           5.2          2.0  Iris-virginica\n",
      "148          6.2          3.4           5.4          2.3  Iris-virginica\n",
      "149          5.9          3.0           5.1          1.8  Iris-virginica\n",
      "\n",
      "[150 rows x 5 columns]\n"
     ]
    }
   ],
   "source": [
    "dataset = pd.read_csv('iris.csv')\n",
    "print dataset"
   ]
  },
  {
   "cell_type": "markdown",
   "metadata": {},
   "source": [
    "### Iniciando um DataFrame (a partir de uma matriz)"
   ]
  },
  {
   "cell_type": "code",
   "execution_count": 3,
   "metadata": {},
   "outputs": [
    {
     "name": "stdout",
     "output_type": "stream",
     "text": [
      "        0   1   2\n",
      "0   homem  25  68\n",
      "1  mulher  21  54\n",
      "2  mulher  45  60\n"
     ]
    }
   ],
   "source": [
    "df = pd.DataFrame([\n",
    "    ['homem', 25, 68], ['mulher', 21, 54], ['mulher', 45, 60]\n",
    "])\n",
    "\n",
    "print df"
   ]
  },
  {
   "cell_type": "markdown",
   "metadata": {},
   "source": [
    "### Atribuindo nomes às colunas"
   ]
  },
  {
   "cell_type": "code",
   "execution_count": 4,
   "metadata": {
    "scrolled": true
   },
   "outputs": [
    {
     "name": "stdout",
     "output_type": "stream",
     "text": [
      "pós construção:\n",
      "     sexo  idade  peso\n",
      "0   homem     25    68\n",
      "1  mulher     21    54\n",
      "2  mulher     45    60\n",
      "\n",
      "\n"
     ]
    }
   ],
   "source": [
    "print 'pós construção:'\n",
    "df.columns = ['sexo', 'idade', 'peso']\n",
    "print df\n",
    "\n",
    "print '\\n'\n",
    "\n",
    "# print 'durante a construção:'\n",
    "# df1 = pd.DataFrame(a, columns=['first', 'second', 'third'])"
   ]
  },
  {
   "cell_type": "markdown",
   "metadata": {},
   "source": [
    "### Atribuindo nomes às linhas"
   ]
  },
  {
   "cell_type": "code",
   "execution_count": 5,
   "metadata": {},
   "outputs": [
    {
     "name": "stdout",
     "output_type": "stream",
     "text": [
      "pós construção:\n",
      "           sexo  idade  peso\n",
      "joão      homem     25    68\n",
      "maria    mulher     21    54\n",
      "roberta  mulher     45    60\n",
      "\n",
      "\n"
     ]
    }
   ],
   "source": [
    "print 'pós construção:'\n",
    "df.index = ['joão', 'maria', 'roberta']\n",
    "\n",
    "print df\n",
    "\n",
    "print '\\n'\n",
    "\n",
    "# print 'durante a construção:'\n",
    "# df1 = pd.DataFrame(a, columns=['first', 'second', 'third'], index=['zero', 'one', 'two'])"
   ]
  },
  {
   "cell_type": "markdown",
   "metadata": {},
   "source": [
    "### Selecionando dados\n",
    "\n"
   ]
  },
  {
   "cell_type": "code",
   "execution_count": 6,
   "metadata": {},
   "outputs": [
    {
     "name": "stdout",
     "output_type": "stream",
     "text": [
      "selecionando colunas:\n",
      "\n",
      "joão        homem\n",
      "maria      mulher\n",
      "roberta    mulher\n",
      "Name: sexo, dtype: object \n",
      "\n",
      "selecionando linhas:\n",
      "\n",
      "sexo     homem\n",
      "idade       25\n",
      "peso        68\n",
      "Name: joão, dtype: object \n",
      "\n",
      "selecionando linhas e colunas:\n",
      "\n",
      "homem \n",
      "\n",
      "selecionando linhas onde coluna 'sexo' = mulher:\n",
      "\n",
      "           sexo  idade  peso\n",
      "maria    mulher     21    54\n",
      "roberta  mulher     45    60 \n",
      "\n"
     ]
    }
   ],
   "source": [
    "print 'selecionando colunas:\\n'\n",
    "print df['sexo'], '\\n'\n",
    "\n",
    "print 'selecionando linhas:\\n'\n",
    "print df.loc['joão'], '\\n'\n",
    "\n",
    "print 'selecionando linhas e colunas:\\n'\n",
    "print df['sexo'].loc['joão'], '\\n'\n",
    "\n",
    "print 'selecionando linhas onde coluna \\'sexo\\' = mulher:\\n'\n",
    "print df.loc[df['sexo'] == 'mulher'], '\\n'"
   ]
  },
  {
   "cell_type": "markdown",
   "metadata": {},
   "source": [
    "### Agrupando dados"
   ]
  },
  {
   "cell_type": "code",
   "execution_count": 7,
   "metadata": {},
   "outputs": [
    {
     "name": "stdout",
     "output_type": "stream",
     "text": [
      "objeto agrupado:\n",
      "<pandas.core.groupby.DataFrameGroupBy object at 0x7fc567123950> \n",
      "\n",
      "dataframe completo:\n",
      "           sexo  idade  peso\n",
      "joão      homem     25    68\n",
      "maria    mulher     21    54\n",
      "roberta  mulher     45    60 \n",
      "\n",
      "média de idade e peso das pessoas, agrupadas por sexo:\n",
      "        idade  peso\n",
      "sexo               \n",
      "homem      25    68\n",
      "mulher     33    57 \n",
      "\n",
      "máxima idade das pessoas, agrupadas por sexo:\n",
      "        idade  peso\n",
      "sexo               \n",
      "homem      25    68\n",
      "mulher     45    60 \n",
      "\n"
     ]
    }
   ],
   "source": [
    "group = df.groupby(by=['sexo'])\n",
    "print 'objeto agrupado:\\n', group, '\\n'\n",
    "\n",
    "print 'dataframe completo:\\n', df, '\\n'\n",
    "\n",
    "print 'média de idade e peso das pessoas, agrupadas por sexo:\\n', group.mean(), '\\n'\n",
    "\n",
    "print 'máxima idade das pessoas, agrupadas por sexo:\\n', group.max(), '\\n'"
   ]
  },
  {
   "cell_type": "markdown",
   "metadata": {},
   "source": [
    "### Aplicando uma função a todas as linhas"
   ]
  },
  {
   "cell_type": "code",
   "execution_count": 8,
   "metadata": {},
   "outputs": [
    {
     "name": "stdout",
     "output_type": "stream",
     "text": [
      "idade original:\n",
      "joão       25\n",
      "maria      21\n",
      "roberta    45\n",
      "Name: idade, dtype: int64 \n",
      "\n",
      "idade mais um:\n",
      "joão       26\n",
      "maria      22\n",
      "roberta    46\n",
      "Name: idade, dtype: int64 \n",
      "\n"
     ]
    }
   ],
   "source": [
    "print 'idade original:\\n', df['idade'], '\\n'\n",
    "\n",
    "print 'idade mais um:\\n', df['idade'].apply(lambda x: x + 1), '\\n'"
   ]
  }
 ],
 "metadata": {
  "kernelspec": {
   "display_name": "Python [default]",
   "language": "python",
   "name": "python2"
  },
  "language_info": {
   "codemirror_mode": {
    "name": "ipython",
    "version": 2
   },
   "file_extension": ".py",
   "mimetype": "text/x-python",
   "name": "python",
   "nbconvert_exporter": "python",
   "pygments_lexer": "ipython2",
   "version": "2.7.13"
  }
 },
 "nbformat": 4,
 "nbformat_minor": 2
}
